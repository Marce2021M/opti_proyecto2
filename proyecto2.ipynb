{
 "cells": [
  {
   "cell_type": "markdown",
   "metadata": {},
   "source": [
    "# Función por optimizar\n",
    "\n",
    "$\\sum_{k=0}^{np}\\sum_{k<j}\\lVert \\frac{1}{x_{k}-x_{j}} \\rVert$"
   ]
  },
  {
   "cell_type": "code",
   "execution_count": null,
   "metadata": {},
   "outputs": [],
   "source": [
    "# Función por optimizar\n",
    "\n",
    "import numpy as np\n",
    "\n",
    "def f_electron(x, puntoInicial = np.array([1,0,0])):\n",
    "    # x es un vector columna de dimensi ́on 3 ∗ np. (np.array)\n",
    "    # El punto #, k, xk que quiere colocarse en la esfera,\n",
    "    # tiene coordenadas (x3∗k, x3k+1, x3∗k+2).\n",
    "    # Return:\n",
    "    # f−x valor de la funci ́on a minimizar.\n",
    "    nproton = len(x)/3 + 1\n",
    "    x = np.concatenate((puntoInicial, x))\n",
    "    x = np.reshape(x, (nproton, 3))\n",
    "    resultado = 0\n",
    "    for i in range(nproton):\n",
    "        for j in range(nproton):\n",
    "            if i < j:\n",
    "                resultado += 1/np.linalg.norm(x[i]-x[j])\n",
    "                \n",
    "    return resultado\n",
    "\n",
    "def h_esfera(x)\n",
    "    # versi ́on para usar en programaci ́on cuadr ́atica sucesiva\n",
    "    # con b ́usqueda de l ́ınea.\n",
    "    # x es un vector columna de dimensi ́on 3 ∗ np.\n",
    "    # El punto #, k, xk que quiere colocarse en la esfera,\n",
    "    # tiene coordenadas (x[3 ∗ k], x[3k + 1], x[3 ∗ k + 2]).\n",
    "    # Return h−x .\n",
    "    # h−x es el vector de dimensi ́on np que indica\n",
    "    # si el punto xk est ́a cerca o no de la esfera.\n",
    "    # h−x[k] = x[3 ∗ k] ∗ ∗(2) + x[3k + 1] ∗ ∗(2) + x[3 ∗ k + 2] ∗ ∗(2) − 1\n",
    "    #\n",
    "\n"
   ]
  }
 ],
 "metadata": {
  "kernelspec": {
   "display_name": "env",
   "language": "python",
   "name": "python3"
  },
  "language_info": {
   "name": "python",
   "version": "3.11.6"
  }
 },
 "nbformat": 4,
 "nbformat_minor": 2
}
