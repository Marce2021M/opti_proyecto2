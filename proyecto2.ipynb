{
 "cells": [
  {
   "cell_type": "markdown",
   "metadata": {},
   "source": [
    "# Función por optimizar\n",
    "\n",
    "$\\sum_{k=0}^{np}\\sum_{k<j} \\frac{1}{\\lVert x_{k}-x_{j} \\rVert ^{-1}} $"
   ]
  },
  {
   "cell_type": "code",
   "execution_count": 2,
   "metadata": {},
   "outputs": [
    {
     "ename": "ModuleNotFoundError",
     "evalue": "No module named 'numpy'",
     "output_type": "error",
     "traceback": [
      "\u001b[0;31m---------------------------------------------------------------------------\u001b[0m",
      "\u001b[0;31mModuleNotFoundError\u001b[0m                       Traceback (most recent call last)",
      "Cell \u001b[0;32mIn[2], line 3\u001b[0m\n\u001b[1;32m      1\u001b[0m \u001b[38;5;66;03m# Función por optimizar\u001b[39;00m\n\u001b[0;32m----> 3\u001b[0m \u001b[38;5;28;01mimport\u001b[39;00m \u001b[38;5;21;01mnumpy\u001b[39;00m \u001b[38;5;28;01mas\u001b[39;00m \u001b[38;5;21;01mnp\u001b[39;00m\n\u001b[1;32m      5\u001b[0m \u001b[38;5;28;01mdef\u001b[39;00m \u001b[38;5;21mf_electron\u001b[39m(x, puntoInicial \u001b[38;5;241m=\u001b[39m np\u001b[38;5;241m.\u001b[39marray([\u001b[38;5;241m1\u001b[39m,\u001b[38;5;241m0\u001b[39m,\u001b[38;5;241m0\u001b[39m])):\n\u001b[1;32m      6\u001b[0m     \u001b[38;5;66;03m# x es un vector columna de dimensi ́on 3 ∗ np. (np.array)\u001b[39;00m\n\u001b[1;32m      7\u001b[0m     \u001b[38;5;66;03m# El punto #, k, xk que quiere colocarse en la esfera,\u001b[39;00m\n\u001b[1;32m      8\u001b[0m     \u001b[38;5;66;03m# tiene coordenadas (x3∗k, x3k+1, x3∗k+2).\u001b[39;00m\n\u001b[1;32m      9\u001b[0m     \u001b[38;5;66;03m# Return:\u001b[39;00m\n\u001b[1;32m     10\u001b[0m     \u001b[38;5;66;03m# f−x valor de la funci ́on a minimizar.\u001b[39;00m\n\u001b[1;32m     11\u001b[0m     nproton \u001b[38;5;241m=\u001b[39m \u001b[38;5;28mlen\u001b[39m(x)\u001b[38;5;241m/\u001b[39m\u001b[38;5;241m3\u001b[39m \u001b[38;5;241m+\u001b[39m \u001b[38;5;241m1\u001b[39m\n",
      "\u001b[0;31mModuleNotFoundError\u001b[0m: No module named 'numpy'"
     ]
    }
   ],
   "source": [
    "# Función por optimizar\n",
    "\n",
    "import numpy as np\n",
    "\n",
    "def f_electron(x, puntoInicial = np.array([1,0,0])):\n",
    "    # x es un vector columna de dimensi ́on 3 ∗ np. (np.array)\n",
    "    # El punto #, k, xk que quiere colocarse en la esfera,\n",
    "    # tiene coordenadas (x3∗k, x3k+1, x3∗k+2).\n",
    "    # Return:\n",
    "    # f−x valor de la funci ́on a minimizar.\n",
    "    nproton = len(x)/3 + 1\n",
    "    x = np.concatenate((puntoInicial, x))\n",
    "    x = np.reshape(x, (nproton, 3))\n",
    "    resultado = 0\n",
    "    for i in range(nproton):\n",
    "        for j in range(nproton):\n",
    "            if i < j:\n",
    "                resultado += np.linalg.norm(x[i]-x[j])\n",
    "                \n",
    "    return resultado\n",
    "\n",
    "def h_esfera(x):\n",
    "    # versi ́on para usar en programaci ́on cuadr ́atica sucesiva\n",
    "    # con b ́usqueda de l ́ınea.\n",
    "    # x es un vector columna de dimensi ́on 3 ∗ np.\n",
    "    # El punto #, k, xk que quiere colocarse en la esfera,\n",
    "    # tiene coordenadas (x[3 ∗ k], x[3k + 1], x[3 ∗ k + 2]).\n",
    "    # Return h−x .\n",
    "    # h−x es el vector de dimensi ́on np que indica\n",
    "    # si el punto xk est ́a cerca o no de la esfera.\n",
    "    # h−x[k] = x[3 ∗ k] ∗ ∗(2) + x[3k + 1] ∗ ∗(2) + x[3 ∗ k + 2] ∗ ∗(2) − 1\n",
    "    #\n",
    "    nproton = len(x)/3 \n",
    "    x = np.reshape(x, (nproton, 3))\n",
    "    \n",
    "    resultado = np.linalg.norm(x, axis = 1)**2 - 1\n"
   ]
  },
  {
   "cell_type": "code",
   "execution_count": null,
   "metadata": {},
   "outputs": [],
   "source": []
  }
 ],
 "metadata": {
  "kernelspec": {
   "display_name": "env",
   "language": "python",
   "name": "python3"
  },
  "language_info": {
   "codemirror_mode": {
    "name": "ipython",
    "version": 3
   },
   "file_extension": ".py",
   "mimetype": "text/x-python",
   "name": "python",
   "nbconvert_exporter": "python",
   "pygments_lexer": "ipython3",
   "version": "3.11.6"
  }
 },
 "nbformat": 4,
 "nbformat_minor": 2
}
